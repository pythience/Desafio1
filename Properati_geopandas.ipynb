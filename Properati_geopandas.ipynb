{
 "cells": [
  {
   "cell_type": "code",
   "execution_count": 1,
   "metadata": {
    "colab": {},
    "colab_type": "code",
    "id": "NNITP_PdrX9W"
   },
   "outputs": [],
   "source": [
    "# Librerías necesarias\n",
    "import pandas as pd\n",
    "import requests\n",
    "import geopandas\n",
    "from shapely.geometry import Point\n",
    "import shapely.wkt\n",
    "import rtree\n",
    "import matplotlib.pyplot as plt\n",
    "%matplotlib inline"
   ]
  },
  {
   "cell_type": "code",
   "execution_count": 2,
   "metadata": {},
   "outputs": [],
   "source": [
    "# Bajar un archivo de google drive\n",
    "def download_file_from_google_drive(id, destination):\n",
    "    URL = \"https://docs.google.com/uc?export=download\"\n",
    "\n",
    "    session = requests.Session()\n",
    "\n",
    "    response = session.get(URL, params = { 'id' : id }, stream = True)\n",
    "    token = get_confirm_token(response)\n",
    "\n",
    "    if token:\n",
    "        params = { 'id' : id, 'confirm' : token }\n",
    "        response = session.get(URL, params = params, stream = True)\n",
    "\n",
    "    save_response_content(response, destination)    \n",
    "\n",
    "def get_confirm_token(response):\n",
    "    for key, value in response.cookies.items():\n",
    "        if key.startswith('download_warning'):\n",
    "            return value\n",
    "\n",
    "    return None\n",
    "\n",
    "def save_response_content(response, destination):\n",
    "    tamaño_cache = 32768\n",
    "\n",
    "    with open(destination, \"wb\") as f:\n",
    "        for cache in response.iter_content(tamaño_cache):\n",
    "            if cache: # filter out keep-alive new chunks\n",
    "                f.write(cache)\n",
    "                \n",
    "# Bajamos el archivo con los geonames de Argentina de google drive\n",
    "file_id = '13NQ9j2Ina8zKtnA9ygRb81RWM_pYAg1N'\n",
    "download_file_from_google_drive(file_id, 'geonames_AR.txt')"
   ]
  },
  {
   "cell_type": "code",
   "execution_count": 3,
   "metadata": {
    "colab": {},
    "colab_type": "code",
    "id": "rl8unjVerX-B"
   },
   "outputs": [],
   "source": [
    "# Cargamos el archivo en un dataframe\n",
    "\n",
    "dtypes_dict = {\n",
    "    0: int, # geonameid\n",
    "    1: str,  # name\n",
    "    2: str,  # asciiname\n",
    "    3: str,  # alternatenames\n",
    "    4: float, # latitude\n",
    "    5: float, # longitude\n",
    "    6: str, # feature class\n",
    "    7: str, # feature code\n",
    "    8: str, # country code\n",
    "    9: str, # cc2\n",
    "    10: str, # admin1 code\n",
    "    11: str, # admin2 code\n",
    "    12: str, # admin3 code\n",
    "    13: str, # admin4 code\n",
    "    14: int, # population\n",
    "    15: float, # elevation\n",
    "    16: int, # dem (digital elevation model)\n",
    "    17: str, # timezone\n",
    "    18: str # modification date yyyy-MM-dd\n",
    "}\n",
    "col_names_dict = [\n",
    "    'geoname_id', # geonameid\n",
    "    'name',  # name\n",
    "    'asciiname',  # asciiname\n",
    "    'alternatenames',  # alternatenames\n",
    "    'lat', # latitude\n",
    "    'lon', # longitude\n",
    "    6, # feature class\n",
    "    7, # feature code\n",
    "    8, # country code\n",
    "    9, # cc2\n",
    "    10, # admin1 code\n",
    "    11, # admin2 code\n",
    "    12, # admin3 code\n",
    "    13, # admin4 code\n",
    "    'population', # population\n",
    "    'elevation', # elevation\n",
    "    'dem', # dem (digital elevation model)\n",
    "    'timezone', # timezone\n",
    "    'last_modif' # modification date yyyy-MM-dd\n",
    "]\n",
    "\n",
    "geonames = pd.read_csv(\"geonames_AR.txt\", sep=\"\\t\", header = None, dtype=dtypes_dict, decimal=\".\", names=col_names_dict)"
   ]
  },
  {
   "cell_type": "code",
   "execution_count": 4,
   "metadata": {
    "colab": {},
    "colab_type": "code",
    "id": "inQ1R_Nslyjx"
   },
   "outputs": [],
   "source": [
    "# A partir de un geonames_id retorna los datos de Latitud y Longitus dentro de un Pandas.DataFrame.\n",
    "def get_lat_lon(geonames_id):\n",
    "  return geonames.loc[geonames['geoname_id'] == 3430696,'lat':'lon']"
   ]
  },
  {
   "cell_type": "code",
   "execution_count": 5,
   "metadata": {
    "colab": {
     "base_uri": "https://localhost:8080/",
     "height": 51
    },
    "colab_type": "code",
    "id": "Wp6NREc8onpX",
    "outputId": "bd64bedb-f309-4062-bef6-6484911f89f4"
   },
   "outputs": [
    {
     "name": "stdout",
     "output_type": "stream",
     "text": [
      "-34.66583\n",
      "-58.728280000000005\n"
     ]
    }
   ],
   "source": [
    "# Pruebas\n",
    "print(geonames.loc[geonames['geoname_id'] == 3430696,'lat':'lon']['lat'].iloc[0])\n",
    "print(geonames.loc[geonames['geoname_id'] == 3430696,'lat':'lon']['lon'].iloc[0])"
   ]
  },
  {
   "cell_type": "code",
   "execution_count": 6,
   "metadata": {
    "colab": {
     "base_uri": "https://localhost:8080/",
     "height": 34
    },
    "colab_type": "code",
    "id": "16xXcjxfj-ud",
    "outputId": "5e490fa0-1c13-4e15-f828-a59fec0c60c4"
   },
   "outputs": [
    {
     "data": {
      "text/plain": [
       "'-34.66583 -58.728280000000005'"
      ]
     },
     "execution_count": 6,
     "metadata": {},
     "output_type": "execute_result"
    }
   ],
   "source": [
    "# Pruebas\n",
    "\"{} {}\".format(str(geonames.loc[geonames['geoname_id'] == 3430696,'lat':'lon']['lat'].iloc[0]), str(geonames.loc[geonames['geoname_id'] == 3430696,'lat':'lon']['lon'].iloc[0]))"
   ]
  },
  {
   "cell_type": "code",
   "execution_count": 7,
   "metadata": {
    "colab": {},
    "colab_type": "code",
    "id": "kogayjl1LLaR"
   },
   "outputs": [],
   "source": [
    "# A partir de un geonames_id retorna los datos de Latitud y Longitus correspondiente, dentro de un Pandas.DataFrame.\n",
    "def get_lat_long(geonames_id):\n",
    "  return \"{} {}\".format(str(geonames.loc[geonames['geoname_id'] == 3430696,'lat':'lon']['lat'].iloc[0]), str(geonames.loc[geonames['geoname_id'] == 3430696,'lat':'lon']['lon'].iloc[0]))"
   ]
  },
  {
   "cell_type": "code",
   "execution_count": 8,
   "metadata": {
    "colab": {
     "base_uri": "https://localhost:8080/",
     "height": 34
    },
    "colab_type": "code",
    "id": "53IbNQnohM6L",
    "outputId": "34f7588f-1b5a-47e7-b176-57d850326419"
   },
   "outputs": [
    {
     "data": {
      "text/plain": [
       "'-34.66583 -58.728280000000005'"
      ]
     },
     "execution_count": 8,
     "metadata": {},
     "output_type": "execute_result"
    }
   ],
   "source": [
    "# Prueba 1\n",
    "get_lat_long(3430696)"
   ]
  },
  {
   "cell_type": "code",
   "execution_count": 9,
   "metadata": {
    "colab": {
     "base_uri": "https://localhost:8080/",
     "height": 80
    },
    "colab_type": "code",
    "id": "052bph1msPcA",
    "outputId": "e05089cf-3867-4538-c1eb-dc5c33b20c17"
   },
   "outputs": [
    {
     "data": {
      "text/html": [
       "<div>\n",
       "<style scoped>\n",
       "    .dataframe tbody tr th:only-of-type {\n",
       "        vertical-align: middle;\n",
       "    }\n",
       "\n",
       "    .dataframe tbody tr th {\n",
       "        vertical-align: top;\n",
       "    }\n",
       "\n",
       "    .dataframe thead th {\n",
       "        text-align: right;\n",
       "    }\n",
       "</style>\n",
       "<table border=\"1\" class=\"dataframe\">\n",
       "  <thead>\n",
       "    <tr style=\"text-align: right;\">\n",
       "      <th></th>\n",
       "      <th>lat</th>\n",
       "      <th>lon</th>\n",
       "    </tr>\n",
       "  </thead>\n",
       "  <tbody>\n",
       "    <tr>\n",
       "      <th>3486</th>\n",
       "      <td>-34.66583</td>\n",
       "      <td>-58.72828</td>\n",
       "    </tr>\n",
       "  </tbody>\n",
       "</table>\n",
       "</div>"
      ],
      "text/plain": [
       "           lat       lon\n",
       "3486 -34.66583 -58.72828"
      ]
     },
     "execution_count": 9,
     "metadata": {},
     "output_type": "execute_result"
    }
   ],
   "source": [
    "# Prueba 2\n",
    "get_lat_lon(3430696)"
   ]
  },
  {
   "cell_type": "code",
   "execution_count": 10,
   "metadata": {
    "colab": {},
    "colab_type": "code",
    "id": "uO1SAN_iMC-Z"
   },
   "outputs": [],
   "source": [
    "# Usamos geopandas para obtener el mapa de Argentina\n",
    "world = geopandas.read_file(geopandas.datasets.get_path('naturalearth_lowres'))"
   ]
  },
  {
   "cell_type": "code",
   "execution_count": 11,
   "metadata": {
    "colab": {
     "base_uri": "https://localhost:8080/",
     "height": 364
    },
    "colab_type": "code",
    "id": "uBWAqCX0JAzt",
    "outputId": "c62c9e62-33e1-46bb-a44f-bb8b89495d90"
   },
   "outputs": [
    {
     "data": {
      "text/plain": [
       "geopandas.geodataframe.GeoDataFrame"
      ]
     },
     "execution_count": 11,
     "metadata": {},
     "output_type": "execute_result"
    },
    {
     "data": {
      "image/png": "[encoded data removed]",
      "text/plain": [
       "<Figure size 432x288 with 1 Axes>"
      ]
     },
     "metadata": {
      "needs_background": "light"
     },
     "output_type": "display_data"
    }
   ],
   "source": [
    "argentina = world[world.name == 'Argentina']\n",
    "argentina.plot(color='white', edgecolor='black')\n",
    "type(argentina)"
   ]
  },
  {
   "cell_type": "code",
   "execution_count": 12,
   "metadata": {
    "colab": {},
    "colab_type": "code",
    "id": "oGQ8WhHUJhIk"
   },
   "outputs": [],
   "source": [
    "# Pasaje de latitud-longitud a puntos de coordenadas\n",
    "def from_x_y(df, x, y):\n",
    "    from shapely.geometry import Point\n",
    "    gdf = geopandas.GeoDataFrame(df.drop([x, y], axis=1),\n",
    "                                crs={'init': 'epsg:4326'},\n",
    "                                geometry=[Point(xy) for xy in zip(df[x], df[y])])\n",
    "    return gdf"
   ]
  },
  {
   "cell_type": "markdown",
   "metadata": {
    "colab_type": "text",
    "id": "tu3-zzwdc-wD"
   },
   "source": [
    "## Detectar propiedades Geolocalizadas fuera de Argentina"
   ]
  },
  {
   "cell_type": "markdown",
   "metadata": {
    "colab_type": "text",
    "id": "AithabkQtCbh"
   },
   "source": [
    "**Hipótesis:** existen registros en el dataset provisto cuya geolocalización es incorrecta."
   ]
  },
  {
   "cell_type": "markdown",
   "metadata": {
    "colab_type": "text",
    "id": "WQicn1ODdyLR"
   },
   "source": [
    "\n",
    "### Importamos el dataset provisto de propiedades"
   ]
  },
  {
   "cell_type": "markdown",
   "metadata": {
    "colab_type": "text",
    "id": "QumfXsP4dyLd"
   },
   "source": [
    "Lectura y carga del archivo de datos en Dataframe de Pandas."
   ]
  },
  {
   "cell_type": "code",
   "execution_count": 13,
   "metadata": {
    "colab": {},
    "colab_type": "code",
    "id": "Q99LpCd2dyLe"
   },
   "outputs": [],
   "source": [
    "df_props = pd.read_csv(\"properatti.csv\"\n",
    "           , encoding = 'utf-8', decimal=\".\")"
   ]
  },
  {
   "cell_type": "markdown",
   "metadata": {
    "colab_type": "text",
    "id": "REL3tedfnaGg"
   },
   "source": [
    "Para este análisis necesito remover los valores nulos para la geolocalización, para poder analizar los que efectivamente tienen valores."
   ]
  },
  {
   "cell_type": "code",
   "execution_count": 14,
   "metadata": {
    "colab": {},
    "colab_type": "code",
    "id": "3Tn0cm1anY3Z"
   },
   "outputs": [],
   "source": [
    "df_props = df_props.dropna(subset=['lat-lon'])"
   ]
  },
  {
   "cell_type": "code",
   "execution_count": 15,
   "metadata": {
    "colab": {
     "base_uri": "https://localhost:8080/",
     "height": 34
    },
    "colab_type": "code",
    "id": "TIaqXx45iYly",
    "outputId": "a8aa5fa6-383a-48f1-b610-4fdda1c95a9d"
   },
   "outputs": [
    {
     "data": {
      "text/plain": [
       "geopandas.geodataframe.GeoDataFrame"
      ]
     },
     "execution_count": 15,
     "metadata": {},
     "output_type": "execute_result"
    }
   ],
   "source": [
    "props_gdf = from_x_y(df_props, \"lon\", \"lat\")\n",
    "type(props_gdf)"
   ]
  },
  {
   "cell_type": "markdown",
   "metadata": {
    "colab_type": "text",
    "id": "G4CuNM4Kjenn"
   },
   "source": [
    "#### Gráfico de intersección"
   ]
  },
  {
   "cell_type": "code",
   "execution_count": 16,
   "metadata": {
    "colab": {
     "base_uri": "https://localhost:8080/",
     "height": 483
    },
    "colab_type": "code",
    "id": "SsEHbz2Njenp",
    "outputId": "a6e15175-3dd5-4a5e-e643-6acb49dcb90b"
   },
   "outputs": [
    {
     "data": {
      "image/png": "[encoded data removed]",
      "text/plain": [
       "<Figure size 720x576 with 1 Axes>"
      ]
     },
     "metadata": {
      "needs_background": "light"
     },
     "output_type": "display_data"
    }
   ],
   "source": [
    "fig, ax = plt.subplots(figsize=(10, 8))\n",
    "ax.set_aspect('equal')\n",
    "argentina.plot(ax=ax, color='white', edgecolor='black')\n",
    "props_gdf.plot(ax=ax, marker='o', color='blue', markersize=1)\n",
    "plt.show();"
   ]
  },
  {
   "cell_type": "markdown",
   "metadata": {
    "colab_type": "text",
    "id": "BuMXQ2SUjenv"
   },
   "source": [
    "Listar los que están marcados fuera de Argentina"
   ]
  },
  {
   "cell_type": "code",
   "execution_count": 17,
   "metadata": {
    "colab": {
     "base_uri": "https://localhost:8080/",
     "height": 969
    },
    "colab_type": "code",
    "id": "lfjICAefjenw",
    "outputId": "0cd8a447-9116-441a-94fc-b73c2516fb40"
   },
   "outputs": [
    {
     "name": "stdout",
     "output_type": "stream",
     "text": [
      "<class 'list'>\n",
      "En Argentina: 61286\n",
      "Fuera de Argentina: 8384\n"
     ]
    },
    {
     "data": {
      "image/png": "[encoded data removed]",
      "text/plain": [
       "<Figure size 1296x1152 with 1 Axes>"
      ]
     },
     "metadata": {
      "needs_background": "light"
     },
     "output_type": "display_data"
    }
   ],
   "source": [
    "# Calculando los puntos dentro del polígono \n",
    "\n",
    "pointsinside = geopandas.sjoin(props_gdf,argentina,how=\"inner\")\n",
    "\n",
    "index_outside = [~props_gdf.index.isin(pointsinside.index)]\n",
    "print(type(index_outside))\n",
    "pointsoutside = props_gdf[~props_gdf.index.isin(pointsinside.index)]\n",
    "\n",
    "\n",
    "# Grafico \n",
    "fig, ax = plt.subplots(figsize=(18, 16))\n",
    "ax.set_aspect('equal')\n",
    "argentina.plot(color = 'white',ax=ax)\n",
    "#pointsinside.plot(ax=ax,marker='o', color='green', markersize=5)\n",
    "\n",
    "pointsoutside.plot(ax=ax,marker='o', color='red', markersize=5)\n",
    "\n",
    "#print('Total points:' ,len(points))\n",
    "print('En Argentina:' ,len(pointsinside))\n",
    "print('Fuera de Argentina:' ,len(pointsoutside))"
   ]
  },
  {
   "cell_type": "markdown",
   "metadata": {
    "colab_type": "text",
    "id": "pzUWk6xvsrT3"
   },
   "source": [
    "**Observación:** se observa claramente un punto fuera de la región, en Latitud Norte, quizás se debe a un error en la carga del signo."
   ]
  },
  {
   "cell_type": "code",
   "execution_count": 20,
   "metadata": {
    "colab": {
     "base_uri": "https://localhost:8080/",
     "height": 248
    },
    "colab_type": "code",
    "id": "kAzyuMw1kLjH",
    "outputId": "76a7abf3-e57f-48a0-dc1f-067946b4120d"
   },
   "outputs": [
    {
     "data": {
      "text/html": [
       "<div>\n",
       "<style scoped>\n",
       "    .dataframe tbody tr th:only-of-type {\n",
       "        vertical-align: middle;\n",
       "    }\n",
       "\n",
       "    .dataframe tbody tr th {\n",
       "        vertical-align: top;\n",
       "    }\n",
       "\n",
       "    .dataframe thead th {\n",
       "        text-align: right;\n",
       "    }\n",
       "</style>\n",
       "<table border=\"1\" class=\"dataframe\">\n",
       "  <thead>\n",
       "    <tr style=\"text-align: right;\">\n",
       "      <th></th>\n",
       "      <th>Unnamed: 0</th>\n",
       "      <th>operation</th>\n",
       "      <th>property_type</th>\n",
       "      <th>place_name</th>\n",
       "      <th>place_with_parent_names</th>\n",
       "      <th>country_name</th>\n",
       "      <th>state_name</th>\n",
       "      <th>geonames_id</th>\n",
       "      <th>lat-lon</th>\n",
       "      <th>lat</th>\n",
       "      <th>...</th>\n",
       "      <th>surface_covered_in_m2</th>\n",
       "      <th>price_usd_per_m2</th>\n",
       "      <th>price_per_m2</th>\n",
       "      <th>floor</th>\n",
       "      <th>rooms</th>\n",
       "      <th>expenses</th>\n",
       "      <th>properati_url</th>\n",
       "      <th>description</th>\n",
       "      <th>title</th>\n",
       "      <th>image_thumbnail</th>\n",
       "    </tr>\n",
       "  </thead>\n",
       "  <tbody>\n",
       "    <tr>\n",
       "      <th>9761</th>\n",
       "      <td>9761</td>\n",
       "      <td>sell</td>\n",
       "      <td>house</td>\n",
       "      <td>Córdoba</td>\n",
       "      <td>|Argentina|Córdoba|</td>\n",
       "      <td>Argentina</td>\n",
       "      <td>Córdoba</td>\n",
       "      <td>3860255.0</td>\n",
       "      <td>4.5458426,-75.67893099</td>\n",
       "      <td>4.545843</td>\n",
       "      <td>...</td>\n",
       "      <td>NaN</td>\n",
       "      <td>NaN</td>\n",
       "      <td>NaN</td>\n",
       "      <td>2.0</td>\n",
       "      <td>3.0</td>\n",
       "      <td>NaN</td>\n",
       "      <td>http://www.properati.com.ar/165i3_venta_casa_c...</td>\n",
       "      <td>Casa en Venta de 2 dorm. en Armenia</td>\n",
       "      <td>SE VENDE CASA EN EL BARRIO EL LIMONAR</td>\n",
       "      <td>https://thumbs4.properati.com/2/2huBKPZv0RyWda...</td>\n",
       "    </tr>\n",
       "  </tbody>\n",
       "</table>\n",
       "<p>1 rows × 26 columns</p>\n",
       "</div>"
      ],
      "text/plain": [
       "      Unnamed: 0 operation property_type place_name place_with_parent_names  \\\n",
       "9761        9761      sell         house    Córdoba     |Argentina|Córdoba|   \n",
       "\n",
       "     country_name state_name  geonames_id                 lat-lon       lat  \\\n",
       "9761    Argentina    Córdoba    3860255.0  4.5458426,-75.67893099  4.545843   \n",
       "\n",
       "                            ...                          \\\n",
       "9761                        ...                           \n",
       "\n",
       "      surface_covered_in_m2  price_usd_per_m2 price_per_m2  floor  rooms  \\\n",
       "9761                    NaN               NaN          NaN    2.0    3.0   \n",
       "\n",
       "      expenses                                      properati_url  \\\n",
       "9761       NaN  http://www.properati.com.ar/165i3_venta_casa_c...   \n",
       "\n",
       "                              description  \\\n",
       "9761  Casa en Venta de 2 dorm. en Armenia   \n",
       "\n",
       "                                      title  \\\n",
       "9761  SE VENDE CASA EN EL BARRIO EL LIMONAR   \n",
       "\n",
       "                                        image_thumbnail  \n",
       "9761  https://thumbs4.properati.com/2/2huBKPZv0RyWda...  \n",
       "\n",
       "[1 rows x 26 columns]"
      ]
     },
     "metadata": {},
     "output_type": "display_data"
    }
   ],
   "source": [
    "display(df_props.loc[df_props['lat'] > 0])"
   ]
  },
  {
   "cell_type": "code",
   "execution_count": 21,
   "metadata": {
    "colab": {
     "base_uri": "https://localhost:8080/",
     "height": 248
    },
    "colab_type": "code",
    "id": "PpkhDraB6EuP",
    "outputId": "beb0337a-ac91-4ab9-d5f0-c2c6755efc2f"
   },
   "outputs": [
    {
     "data": {
      "text/html": [
       "<div>\n",
       "<style scoped>\n",
       "    .dataframe tbody tr th:only-of-type {\n",
       "        vertical-align: middle;\n",
       "    }\n",
       "\n",
       "    .dataframe tbody tr th {\n",
       "        vertical-align: top;\n",
       "    }\n",
       "\n",
       "    .dataframe thead th {\n",
       "        text-align: right;\n",
       "    }\n",
       "</style>\n",
       "<table border=\"1\" class=\"dataframe\">\n",
       "  <thead>\n",
       "    <tr style=\"text-align: right;\">\n",
       "      <th></th>\n",
       "      <th>geoname_id</th>\n",
       "      <th>name</th>\n",
       "      <th>asciiname</th>\n",
       "      <th>alternatenames</th>\n",
       "      <th>lat</th>\n",
       "      <th>lon</th>\n",
       "      <th>6</th>\n",
       "      <th>7</th>\n",
       "      <th>8</th>\n",
       "      <th>9</th>\n",
       "      <th>10</th>\n",
       "      <th>11</th>\n",
       "      <th>12</th>\n",
       "      <th>13</th>\n",
       "      <th>population</th>\n",
       "      <th>elevation</th>\n",
       "      <th>dem</th>\n",
       "      <th>timezone</th>\n",
       "      <th>last_modif</th>\n",
       "    </tr>\n",
       "  </thead>\n",
       "  <tbody>\n",
       "    <tr>\n",
       "      <th>37525</th>\n",
       "      <td>3860259</td>\n",
       "      <td>Córdoba</td>\n",
       "      <td>Cordoba</td>\n",
       "      <td>COR,Ciudad de Cordoba,Ciudad de Córdoba,Cordob...</td>\n",
       "      <td>-31.4135</td>\n",
       "      <td>-64.18105</td>\n",
       "      <td>P</td>\n",
       "      <td>PPLA</td>\n",
       "      <td>AR</td>\n",
       "      <td>NaN</td>\n",
       "      <td>05</td>\n",
       "      <td>14014</td>\n",
       "      <td>NaN</td>\n",
       "      <td>NaN</td>\n",
       "      <td>1428214</td>\n",
       "      <td>NaN</td>\n",
       "      <td>395</td>\n",
       "      <td>America/Argentina/Cordoba</td>\n",
       "      <td>2016-07-29</td>\n",
       "    </tr>\n",
       "  </tbody>\n",
       "</table>\n",
       "</div>"
      ],
      "text/plain": [
       "       geoname_id     name asciiname  \\\n",
       "37525     3860259  Córdoba   Cordoba   \n",
       "\n",
       "                                          alternatenames      lat       lon  \\\n",
       "37525  COR,Ciudad de Cordoba,Ciudad de Córdoba,Cordob... -31.4135 -64.18105   \n",
       "\n",
       "       6     7   8    9  10     11   12   13  population  elevation  dem  \\\n",
       "37525  P  PPLA  AR  NaN  05  14014  NaN  NaN     1428214        NaN  395   \n",
       "\n",
       "                        timezone  last_modif  \n",
       "37525  America/Argentina/Cordoba  2016-07-29  "
      ]
     },
     "metadata": {},
     "output_type": "display_data"
    },
    {
     "data": {
      "text/html": [
       "<div>\n",
       "<style scoped>\n",
       "    .dataframe tbody tr th:only-of-type {\n",
       "        vertical-align: middle;\n",
       "    }\n",
       "\n",
       "    .dataframe tbody tr th {\n",
       "        vertical-align: top;\n",
       "    }\n",
       "\n",
       "    .dataframe thead th {\n",
       "        text-align: right;\n",
       "    }\n",
       "</style>\n",
       "<table border=\"1\" class=\"dataframe\">\n",
       "  <thead>\n",
       "    <tr style=\"text-align: right;\">\n",
       "      <th></th>\n",
       "      <th>geoname_id</th>\n",
       "      <th>name</th>\n",
       "      <th>asciiname</th>\n",
       "      <th>alternatenames</th>\n",
       "      <th>lat</th>\n",
       "      <th>lon</th>\n",
       "      <th>6</th>\n",
       "      <th>7</th>\n",
       "      <th>8</th>\n",
       "      <th>9</th>\n",
       "      <th>10</th>\n",
       "      <th>11</th>\n",
       "      <th>12</th>\n",
       "      <th>13</th>\n",
       "      <th>population</th>\n",
       "      <th>elevation</th>\n",
       "      <th>dem</th>\n",
       "      <th>timezone</th>\n",
       "      <th>last_modif</th>\n",
       "    </tr>\n",
       "  </thead>\n",
       "  <tbody>\n",
       "    <tr>\n",
       "      <th>37521</th>\n",
       "      <td>3860255</td>\n",
       "      <td>Córdoba Province</td>\n",
       "      <td>Cordoba Province</td>\n",
       "      <td>CD,Cordoba,Cordoba Province,Córdoba,Provincia ...</td>\n",
       "      <td>-32.0</td>\n",
       "      <td>-64.0</td>\n",
       "      <td>A</td>\n",
       "      <td>ADM1</td>\n",
       "      <td>AR</td>\n",
       "      <td>NaN</td>\n",
       "      <td>05</td>\n",
       "      <td>NaN</td>\n",
       "      <td>NaN</td>\n",
       "      <td>NaN</td>\n",
       "      <td>3066801</td>\n",
       "      <td>NaN</td>\n",
       "      <td>373</td>\n",
       "      <td>America/Argentina/Cordoba</td>\n",
       "      <td>2016-10-21</td>\n",
       "    </tr>\n",
       "  </tbody>\n",
       "</table>\n",
       "</div>"
      ],
      "text/plain": [
       "       geoname_id              name         asciiname  \\\n",
       "37521     3860255  Córdoba Province  Cordoba Province   \n",
       "\n",
       "                                          alternatenames   lat   lon  6     7  \\\n",
       "37521  CD,Cordoba,Cordoba Province,Córdoba,Provincia ... -32.0 -64.0  A  ADM1   \n",
       "\n",
       "        8    9  10   11   12   13  population  elevation  dem  \\\n",
       "37521  AR  NaN  05  NaN  NaN  NaN     3066801        NaN  373   \n",
       "\n",
       "                        timezone  last_modif  \n",
       "37521  America/Argentina/Cordoba  2016-10-21  "
      ]
     },
     "metadata": {},
     "output_type": "display_data"
    }
   ],
   "source": [
    "display(geonames.loc[geonames['name'] == \"Córdoba\"])\n",
    "display(geonames.loc[geonames['geoname_id'] == 3860255.0])"
   ]
  }
 ],
 "metadata": {
  "colab": {
   "collapsed_sections": [],
   "name": "geonames.ipynb",
   "provenance": [],
   "version": "0.3.2"
  },
  "kernelspec": {
   "display_name": "Python 3",
   "language": "python",
   "name": "python3"
  },
  "language_info": {
   "codemirror_mode": {
    "name": "ipython",
    "version": 3
   },
   "file_extension": ".py",
   "mimetype": "text/x-python",
   "name": "python",
   "nbconvert_exporter": "python",
   "pygments_lexer": "ipython3",
   "version": "3.7.1"
  }
 },
 "nbformat": 4,
 "nbformat_minor": 1
}
